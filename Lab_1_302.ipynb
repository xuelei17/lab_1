{
  "nbformat": 4,
  "nbformat_minor": 0,
  "metadata": {
    "colab": {
      "name": "Lab_1_302",
      "provenance": [],
      "collapsed_sections": [],
      "authorship_tag": "ABX9TyNAR5A2KWxdllJMtJBhonvQ",
      "include_colab_link": true
    },
    "kernelspec": {
      "name": "python3",
      "display_name": "Python 3"
    }
  },
  "cells": [
    {
      "cell_type": "markdown",
      "metadata": {
        "id": "view-in-github",
        "colab_type": "text"
      },
      "source": [
        "<a href=\"https://colab.research.google.com/github/xuelei17/lab_1/blob/master/Lab_1_302.ipynb\" target=\"_parent\"><img src=\"https://colab.research.google.com/assets/colab-badge.svg\" alt=\"Open In Colab\"/></a>"
      ]
    },
    {
      "cell_type": "code",
      "metadata": {
        "id": "xGlf4U9erQrs",
        "colab_type": "code",
        "colab": {
          "base_uri": "https://localhost:8080/",
          "height": 34
        },
        "outputId": "c827c1c3-3fdc-4fde-cb75-b06525971700"
      },
      "source": [
        "\"\"\"\n",
        "Name:Xuelei Zhang\n",
        "Date created:8/31/20\n",
        "Version of Python:3\n",
        "Lab1-calculations with python\n",
        "\"\"\"\n",
        "# length and width are in feet area is in square foot\n",
        "plot_length=50\n",
        "plot_width=20\n",
        "plot_area=plot_length*plot_width\n",
        "print(plot_area)\n"
      ],
      "execution_count": 2,
      "outputs": [
        {
          "output_type": "stream",
          "text": [
            "1000\n"
          ],
          "name": "stdout"
        }
      ]
    },
    {
      "cell_type": "code",
      "metadata": {
        "id": "wzcv7ebeLNnA",
        "colab_type": "code",
        "colab": {
          "base_uri": "https://localhost:8080/",
          "height": 34
        },
        "outputId": "d4e8779d-c573-496c-b639-917a1750c424"
      },
      "source": [
        "# Converting square foot into square inch\n",
        "plot_area=1000*144\n",
        "print(plot_area)"
      ],
      "execution_count": 3,
      "outputs": [
        {
          "output_type": "stream",
          "text": [
            "144000\n"
          ],
          "name": "stdout"
        }
      ]
    },
    {
      "cell_type": "code",
      "metadata": {
        "id": "UI-ykns4MGnT",
        "colab_type": "code",
        "colab": {
          "base_uri": "https://localhost:8080/",
          "height": 34
        },
        "outputId": "d325c07c-a883-4ba0-8cd5-36054de774f7"
      },
      "source": [
        "#the amount of rainfall during a 1-inch rain storm in cubic inches\n",
        "plot_area=144000\n",
        "rainfall_inches= 1 \n",
        "runoff_inches= plot_area* rainfall_inches\n",
        "print(runoff_inches)"
      ],
      "execution_count": 4,
      "outputs": [
        {
          "output_type": "stream",
          "text": [
            "144000\n"
          ],
          "name": "stdout"
        }
      ]
    },
    {
      "cell_type": "code",
      "metadata": {
        "id": "1kSWGY8mJnbN",
        "colab_type": "code",
        "colab": {
          "base_uri": "https://localhost:8080/",
          "height": 34
        },
        "outputId": "56ae7c24-6fb6-4300-d94c-98f8f57a9461"
      },
      "source": [
        "#the amount of runoff in gallon\n",
        "runoff_gallon=runoff_inches/231\n",
        "print(runoff_gallon)\n"
      ],
      "execution_count": 22,
      "outputs": [
        {
          "output_type": "stream",
          "text": [
            "623.3766233766233\n"
          ],
          "name": "stdout"
        }
      ]
    },
    {
      "cell_type": "code",
      "metadata": {
        "id": "uvXMzHd2w-Yy",
        "colab_type": "code",
        "colab": {
          "base_uri": "https://localhost:8080/",
          "height": 54
        },
        "outputId": "f2dca429-130b-49a4-cf29-dab11292e1ba"
      },
      "source": [
        "x=623.3766233766233\n",
        "print (\"% 623.2f\" % x)\n"
      ],
      "execution_count": 23,
      "outputs": [
        {
          "output_type": "stream",
          "text": [
            "                                                                                                                                                                                                                                                                                                                                                                                                                                                                                                                                                                                                                                         623.38\n"
          ],
          "name": "stdout"
        }
      ]
    }
  ]
}