{
  "nbformat": 4,
  "nbformat_minor": 0,
  "metadata": {
    "colab": {
      "name": "Lab_1_302",
      "provenance": [],
      "collapsed_sections": [],
      "authorship_tag": "ABX9TyOdl4Wtxl2AKfUwbfPLm2Xc",
      "include_colab_link": true
    },
    "kernelspec": {
      "name": "python3",
      "display_name": "Python 3"
    }
  },
  "cells": [
    {
      "cell_type": "markdown",
      "metadata": {
        "id": "view-in-github",
        "colab_type": "text"
      },
      "source": [
        "<a href=\"https://colab.research.google.com/github/xuelei17/lab_1/blob/master/Lab_1_302.ipynb\" target=\"_parent\"><img src=\"https://colab.research.google.com/assets/colab-badge.svg\" alt=\"Open In Colab\"/></a>"
      ]
    },
    {
      "cell_type": "code",
      "metadata": {
        "id": "xGlf4U9erQrs",
        "colab_type": "code",
        "colab": {
          "base_uri": "https://localhost:8080/",
          "height": 34
        },
        "outputId": "cbcf3a8d-a4db-46fe-f2f5-d243a83ce455"
      },
      "source": [
        "\"\"\"\n",
        "Name:Xuelei Zhang\n",
        "Date created:8/31/20\n",
        "Version of Python:3\n",
        "Lab1-calculations with python\n",
        "\"\"\"\n",
        "# length and width are in feet area is in square foot\n",
        "plot_length=50\n",
        "plot_width=20\n",
        "plot_area=plot_length*plot_width\n",
        "print(plot_area)\n"
      ],
      "execution_count": null,
      "outputs": [
        {
          "output_type": "stream",
          "text": [
            "1000\n"
          ],
          "name": "stdout"
        }
      ]
    },
    {
      "cell_type": "code",
      "metadata": {
        "id": "wzcv7ebeLNnA",
        "colab_type": "code",
        "colab": {
          "base_uri": "https://localhost:8080/",
          "height": 34
        },
        "outputId": "1623bcae-f9c3-4cee-dd90-ee95f052c659"
      },
      "source": [
        "# Converting square foot into square inch\n",
        "plot_area=1000*144\n",
        "print(plot_area)"
      ],
      "execution_count": null,
      "outputs": [
        {
          "output_type": "stream",
          "text": [
            "144000\n"
          ],
          "name": "stdout"
        }
      ]
    },
    {
      "cell_type": "code",
      "metadata": {
        "id": "UI-ykns4MGnT",
        "colab_type": "code",
        "colab": {
          "base_uri": "https://localhost:8080/",
          "height": 34
        },
        "outputId": "e150d8fd-15b3-4d4e-b6ac-6dde75a1d940"
      },
      "source": [
        "#the amount of rainfall during a 1-inch rain storm in cubic inches\n",
        "plot_area=144000\n",
        "rainfall_inches= 1 \n",
        "runoff_inches= plot_area* rainfall_inches\n",
        "print(runoff_inches)"
      ],
      "execution_count": null,
      "outputs": [
        {
          "output_type": "stream",
          "text": [
            "144000\n"
          ],
          "name": "stdout"
        }
      ]
    },
    {
      "cell_type": "code",
      "metadata": {
        "id": "1kSWGY8mJnbN",
        "colab_type": "code",
        "colab": {
          "base_uri": "https://localhost:8080/",
          "height": 34
        },
        "outputId": "51596c12-1690-45c9-97e7-59ff6bee8eb1"
      },
      "source": [
        "#the amount of runoff in gallon\n",
        "runoff_gallon=runoff_inches*0.0043\n",
        "print(runoff_gallon)"
      ],
      "execution_count": null,
      "outputs": [
        {
          "output_type": "stream",
          "text": [
            "619.2\n"
          ],
          "name": "stdout"
        }
      ]
    }
  ]
}